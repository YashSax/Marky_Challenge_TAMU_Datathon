{
 "cells": [
  {
   "cell_type": "code",
   "execution_count": null,
   "metadata": {},
   "outputs": [],
   "source": [
    "from sklearn.ensemble import RandomForestClassifier\n",
    "import pandas as pd\n"
   ]
  },
  {
   "cell_type": "code",
   "execution_count": null,
   "metadata": {},
   "outputs": [],
   "source": [
    "train_data = pd.read_csv(\"D:/Vasudev_Agarwal/Work_Fun/1_Texas_AM/1_Fall_2023/Marky_Challenge_TAMU_Datathon/marky_data/train.csv\")\n",
    "\n",
    "features = ['user_edited', 'caption', 'parameters_chapter_summary', 'parameters_tone']\n",
    "\n",
    "target = 'approved'\n",
    "\n",
    "X = train_data[features]\n",
    "y = train_data[target]\n"
   ]
  }
 ],
 "metadata": {
  "language_info": {
   "name": "python"
  }
 },
 "nbformat": 4,
 "nbformat_minor": 2
}
